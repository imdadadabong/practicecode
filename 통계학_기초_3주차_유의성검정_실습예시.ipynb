{
  "nbformat": 4,
  "nbformat_minor": 0,
  "metadata": {
    "colab": {
      "provenance": [],
      "authorship_tag": "ABX9TyN9dIKkEq0Odqk3B3pzmv2Z",
      "include_colab_link": true
    },
    "kernelspec": {
      "name": "python3",
      "display_name": "Python 3"
    },
    "language_info": {
      "name": "python"
    }
  },
  "cells": [
    {
      "cell_type": "markdown",
      "metadata": {
        "id": "view-in-github",
        "colab_type": "text"
      },
      "source": [
        "<a href=\"https://colab.research.google.com/github/imdadadabong/practicecode/blob/main/%ED%86%B5%EA%B3%84%ED%95%99_%EA%B8%B0%EC%B4%88_3%EC%A3%BC%EC%B0%A8_%EC%9C%A0%EC%9D%98%EC%84%B1%EA%B2%80%EC%A0%95_%EC%8B%A4%EC%8A%B5%EC%98%88%EC%8B%9C.ipynb\" target=\"_parent\"><img src=\"https://colab.research.google.com/assets/colab-badge.svg\" alt=\"Open In Colab\"/></a>"
      ]
    },
    {
      "cell_type": "code",
      "execution_count": 15,
      "metadata": {
        "colab": {
          "base_uri": "https://localhost:8080/"
        },
        "id": "X3I-8rWMfln3",
        "outputId": "665b46d8-16ed-4a34-ab14-5e90addfbfb6"
      },
      "outputs": [
        {
          "output_type": "stream",
          "name": "stdout",
          "text": [
            "[1 0 1 1 0 0 0 0 1 1 0 0 0 0 0 0 1 0 0 1 0 1 1 0 0 0 0 0 0 0 0 0 1 0 0 0 1\n",
            " 0 0 1 0 1 0 0 0 0 0 1 0 0 0 0 0 0 0 0 0 0 0 0 1 0 0 0 1 1 0 0 1 0 0 0 0 1\n",
            " 1 0 0 0 1 1 1 1 0 0 0 1 0 0 0 0 0 0 0 0 0 0 1 0 0 1]\n",
            "1의 개수 27\n"
          ]
        }
      ],
      "source": [
        "import pandas as pd #데이터 분석에서 자주 사용 되는 라이브러리\n",
        "import numpy as np # 데이터 계산을 빠르게 수행 할 수 있도록 돕는 라이브러리\n",
        "import matplotlib.pyplot as plt #시각화 라이브러리\n",
        "import seaborn as sns #시각화라이브러리\n",
        "\n",
        "#가정 된 전환율 데이터\n",
        "\n",
        "group_a = np.random.binomial(1, 0.30, 100) # 30%의 전환율\n",
        "group_b = np.random.binomial(1, 0.45, 100) # 45%의 전환율\n",
        "\n",
        "print(group_a)\n",
        "print('1의 개수', sum(group_a))"
      ]
    },
    {
      "cell_type": "code",
      "source": [
        "print(group_b)\n",
        "print('1의 개수', sum(group_b))"
      ],
      "metadata": {
        "colab": {
          "base_uri": "https://localhost:8080/"
        },
        "id": "6HWWZs5hgbZc",
        "outputId": "f2c18777-0a10-4fb9-c874-527c4981ef6e"
      },
      "execution_count": 14,
      "outputs": [
        {
          "output_type": "stream",
          "name": "stdout",
          "text": [
            "[1 1 0 0 1 1 0 1 0 1 1 0 0 0 1 0 1 0 0 0 0 0 1 1 0 1 1 0 1 1 1 0 1 0 0 0 0\n",
            " 1 0 1 1 1 1 1 0 0 1 0 0 1 1 0 0 1 0 1 0 0 1 0 1 1 1 1 1 0 1 0 1 0 0 1 1 1\n",
            " 0 1 1 1 0 1 0 1 0 1 0 0 1 0 0 1 0 1 0 0 0 0 1 1 0 0]\n",
            "1의 개수 50\n"
          ]
        }
      ]
    },
    {
      "cell_type": "code",
      "source": [
        "#A/B테스트 검정\n",
        "import numpy as np\n",
        "import scipy.stats as stats\n",
        "\n",
        "# 가정된 전환율 데이터\n",
        "group_a = np.random.binomial(1, 0.30, 100)  # 30% 전환율\n",
        "group_b = np.random.binomial(1, 0.45, 100)  # 45% 전환율\n",
        "\n",
        "#T-test를 이용한 비교  (통계적으로 의미가 있는지 확인)\n",
        "t_stat, p_val = stats.ttest_ind(group_a, group_b)\n",
        "print(f\"T-Statistic: {t_stat}, P-value: {p_val}\")"
      ],
      "metadata": {
        "colab": {
          "base_uri": "https://localhost:8080/"
        },
        "id": "oRPnRYUigHBA",
        "outputId": "49bbcf24-4d50-473d-e199-91003a7ae19b"
      },
      "execution_count": 6,
      "outputs": [
        {
          "output_type": "stream",
          "name": "stdout",
          "text": [
            "T-Statistic: -2.1598429262260224, P-value: 0.031986688076554234\n"
          ]
        }
      ]
    },
    {
      "cell_type": "markdown",
      "source": [
        "# **stats.ttest_ind**\n",
        "\n",
        "1) `scipy.stats.ttest_ind` 함수는 독립표본 t-검정(Independent Samples t-test)을 수행하여 두 개의 독립된 집단 간 평균의 차이가 유의미한지 평가함\n",
        "\n",
        "2) 이 함수는 두 집단의 데이터 배열을 입력으로 받아서 t-통계량과 p-값을 반환\n",
        "\n",
        "-  **t-통계량 (statistic)** :t-검정 통계량. 두 집단 간 평균 차이의 크기와 방향을 나타냅니다.\n",
        "-  **p-값 (pvalue)** : p-값은 귀무 가설이 참일 때, 현재 데이터보다 극단적인 결과가 나올 확률. 이 값이 유의수준(α) 보다 작으면 귀무 가설을 기각하고 이 값이 유의수준(α) 보다 크면 귀무 가설을 기각하지 않음."
      ],
      "metadata": {
        "id": "6SDwIdNthOaA"
      }
    },
    {
      "cell_type": "markdown",
      "source": [
        "**가설검정**"
      ],
      "metadata": {
        "id": "pqV6aLrUFcJc"
      }
    },
    {
      "cell_type": "code",
      "source": [
        "#기존약물 (A)와 새로운 약물 (B) 효과 데이터 형성\n",
        "\n",
        "A = np.random.normal(50,10,100)\n",
        "B = np.random.normal(55,10,100)\n",
        "\n",
        "mean_A = np.mean(A)\n",
        "mean_B = np.mean(B)\n",
        "\n",
        "t_stat,p_value = stats.ttest_ind(A,B)\n",
        "\n",
        "print(f\"A 평균효과: {mean_A}\")\n",
        "print(f\"B 평균효과: {mean_B}\")\n",
        "print(f\"t-검정통계량: {t_stat}\")\n",
        "print(f\"p-값:{p_value}\")\n"
      ],
      "metadata": {
        "colab": {
          "base_uri": "https://localhost:8080/"
        },
        "id": "9SHibHwkFolP",
        "outputId": "4b6882a0-bb73-4aad-b10e-3239abeb300f"
      },
      "execution_count": 8,
      "outputs": [
        {
          "output_type": "stream",
          "name": "stdout",
          "text": [
            "A 평균효과: 47.33085578098989\n",
            "B 평균효과: 54.90522392110388\n",
            "t-검정통계량: -5.61433632764722\n",
            "p-값:6.605915872864204e-08\n"
          ]
        }
      ]
    },
    {
      "cell_type": "code",
      "source": [
        "# t-검정의 p-값 확인\"\n",
        "print(f\"p-값:{p_value}\")\n",
        "if p_value < 0.05:\n",
        "  print(\"귀무가설을 기각합니다. 통계적으로 유의미한 차이가 있습니다.\")\n",
        "else:\n",
        "  print(\"귀무가설을 기각하지 않습니다. 통계적으로 유의미한 차이가 없습니다.\")"
      ],
      "metadata": {
        "id": "10rImjKlg3VM",
        "colab": {
          "base_uri": "https://localhost:8080/"
        },
        "outputId": "67c4eead-c074-4558-8e6c-eee4b51512c6"
      },
      "execution_count": 9,
      "outputs": [
        {
          "output_type": "stream",
          "name": "stdout",
          "text": [
            "p-값:6.605915872864204e-08\n",
            "귀무가설을 기각합니다. 통계적으로 유의미한 차이가 있습니다.\n"
          ]
        }
      ]
    },
    {
      "cell_type": "code",
      "source": [
        "#T-검정 예시\n",
        "\n",
        "score_method1 = np.random.normal(70, 10, 30)\n",
        "score_method2 = np.random.normal(70, 10, 30)\n",
        "\n",
        "#독립표본 t검정\n",
        "t_stat, p_val = stats.ttest_ind(score_method1, score_method2)\n",
        "\n",
        "print(f\"T-Statisfic:{t_stat}, P-value:{p_val}\")"
      ],
      "metadata": {
        "colab": {
          "base_uri": "https://localhost:8080/"
        },
        "id": "UqPAhKpcFrc4",
        "outputId": "bd4ab93d-a507-4966-f0cd-29812f1351ad"
      },
      "execution_count": 10,
      "outputs": [
        {
          "output_type": "stream",
          "name": "stdout",
          "text": [
            "T-Statisfic:0.30423151559866995, P-value:0.7620403878412829\n"
          ]
        }
      ]
    },
    {
      "cell_type": "code",
      "source": [
        "#다중검정 실습 예시\n",
        "\n",
        "import pandas as pd\n",
        "import numpy as np\n",
        "\n",
        "# 세 그륩의 데이터 형성\n",
        "\n",
        "np.random.seed(42)\n",
        "group_A = np.random.normal(10,2,30)\n",
        "group_B = np.random.normal(12,2,30)\n",
        "group_C = np.random.normal(11,2,30)\n",
        "\n",
        "# 세 그륩 간 평균 차이에 대한 T검정 수행\n",
        "p_values = []\n",
        "p_values.append(stats.ttest_ind(group_A,group_B).pvalue)\n",
        "p_values.append(stats.ttest_ind(group_A,group_C).pvalue)\n",
        "p_values.append(stats.ttest_ind(group_B,group_C).pvalue)\n",
        "\n",
        "#본페로니 보정 적용\n",
        "alpha = 0.05\n",
        "adjusted_alpha = alpha / len(p_values)\n",
        "\n",
        "#결과\n",
        "print(f\"본페로니 보정된 유의 수준: {adjusted_alpha:.4f}\")\n",
        "for i, p in enumerate(p_values):\n",
        "    if p < adjusted_alpha:\n",
        "        print(f\"검정 {i+1}: 유의미한 차이 발견 (p = {p:.4f})\")\n",
        "    else:\n",
        "        print(f\"검정 {i+1}: 유의미한 차이 없음 (p = {p:.4f})\")"
      ],
      "metadata": {
        "colab": {
          "base_uri": "https://localhost:8080/"
        },
        "id": "XVay371MFta7",
        "outputId": "46969a3e-4115-4dd4-ad33-d2a4c7191ec2"
      },
      "execution_count": 11,
      "outputs": [
        {
          "output_type": "stream",
          "name": "stdout",
          "text": [
            "본페로니 보정된 유의 수준: 0.0167\n",
            "검정 1: 유의미한 차이 발견 (p = 0.0000)\n",
            "검정 2: 유의미한 차이 발견 (p = 0.0058)\n",
            "검정 3: 유의미한 차이 없음 (p = 0.1461)\n"
          ]
        }
      ]
    },
    {
      "cell_type": "code",
      "source": [
        "#카이제곱검정 - 적합도 검정 실습 예시\n",
        "observed = [20, 30, 25, 25]\n",
        "expected = [25, 25, 25, 25]\n",
        "chi2_stat, p_value = stats.chisquare(observed, expected)\n",
        "print(f\"적합도 검정 카이제곱 통계량:{chi2_stat}, p-값:{p_value}\")\n",
        "\n",
        "#카이제곱검정 - 독립성 검정 실습 예시\n",
        "observed = np.array([[10, 10, 20],[20, 20, 40]])\n",
        "chi2_stat, p_value, dof, expected = stats.chi2_contingency(observed)\n",
        "print(f\"독립성 검정 카이제곱 통계량:{chi2_stat}, p-값:{p_value}\")"
      ],
      "metadata": {
        "colab": {
          "base_uri": "https://localhost:8080/"
        },
        "id": "ohX9WCtuFvhF",
        "outputId": "482cdb0e-b586-405b-c14d-e4bcb8bb2502"
      },
      "execution_count": 13,
      "outputs": [
        {
          "output_type": "stream",
          "name": "stdout",
          "text": [
            "적합도 검정 카이제곱 통계량:2.0, p-값:0.5724067044708798\n",
            "독립성 검정 카이제곱 통계량:0.0, p-값:1.0\n"
          ]
        }
      ]
    }
  ]
}