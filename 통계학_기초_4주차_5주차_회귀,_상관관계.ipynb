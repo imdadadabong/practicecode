{
  "nbformat": 4,
  "nbformat_minor": 0,
  "metadata": {
    "colab": {
      "provenance": [],
      "authorship_tag": "ABX9TyNLp8MxIclI9sSfHg0D88K7",
      "include_colab_link": true
    },
    "kernelspec": {
      "name": "python3",
      "display_name": "Python 3"
    },
    "language_info": {
      "name": "python"
    }
  },
  "cells": [
    {
      "cell_type": "markdown",
      "metadata": {
        "id": "view-in-github",
        "colab_type": "text"
      },
      "source": [
        "<a href=\"https://colab.research.google.com/github/imdadadabong/practicecode/blob/main/%ED%86%B5%EA%B3%84%ED%95%99_%EA%B8%B0%EC%B4%88_4%EC%A3%BC%EC%B0%A8_5%EC%A3%BC%EC%B0%A8_%ED%9A%8C%EA%B7%80%2C_%EC%83%81%EA%B4%80%EA%B4%80%EA%B3%84.ipynb\" target=\"_parent\"><img src=\"https://colab.research.google.com/assets/colab-badge.svg\" alt=\"Open In Colab\"/></a>"
      ]
    },
    {
      "cell_type": "code",
      "execution_count": null,
      "metadata": {
        "id": "jnhyxgkd5VR3"
      },
      "outputs": [],
      "source": [
        "import pandas as pd #데이터 분석에서 자주 사용 되는 라이브러리\n",
        "import numpy as np # 데이터 계산을 빠르게 수행 할 수 있도록 돕는 라이브러리\n",
        "import matplotlib.pyplot as plt #시각화 라이브러리\n",
        "import seaborn as sns #시각화라이브러리\n",
        "from sklearn.linear_model import LinearRegression #선형 회귀 모델\n",
        "from sklearn.model_selection import train_test_split\n",
        "from sklearn.metrics import mean_squared_error, r2_score\n",
        "from scipy import stats"
      ]
    },
    {
      "cell_type": "markdown",
      "source": [
        "# **단순선형회귀**"
      ],
      "metadata": {
        "id": "YDMTkub3KnKb"
      }
    },
    {
      "cell_type": "code",
      "source": [
        "#예시데이터 생성\n",
        "np.random.seed(0)\n",
        "X = 2*np.random.rand(100,1)\n",
        "Y = 4+3 * X+np.random.randn(100,1)\n",
        "\n",
        "#데이터 분할\n",
        "X_train, X_test, Y_train, Y_test = train_test_split(X,Y,test_size=0.2, random_state=42)\n",
        "\n",
        "#단순선형회귀 모델 생성 및 훈련\n",
        "model = LinearRegression()\n",
        "model.fit(X_train, Y_train)\n",
        "\n",
        "#테스트 데이터로 예측 수행\n",
        "Y_pred = model.predict(X_test)\n",
        "\n",
        "#회귀 계수 및 절편 출력\n",
        "print(\"회귀 계수:\", model.coef_)\n",
        "print(\"절편:\", model.intercept_)"
      ],
      "metadata": {
        "colab": {
          "base_uri": "https://localhost:8080/"
        },
        "id": "i6EcEbY3GNh2",
        "outputId": "23da6e79-cc06-43e5-9892-e85569b6d1f8"
      },
      "execution_count": null,
      "outputs": [
        {
          "output_type": "stream",
          "name": "stdout",
          "text": [
            "회귀 계수: [[2.9902591]]\n",
            "절편: [4.20634019]\n"
          ]
        }
      ]
    },
    {
      "cell_type": "code",
      "source": [
        "#모델평가\n",
        "mse= mean_squared_error(Y_test, Y_pred)\n",
        "r2 = r2_score(Y_test, Y_pred)\n",
        "print(\"평균 제곱 오차(MSE):\", mse)\n",
        "print(\"결정 계수(R2):\", r2)"
      ],
      "metadata": {
        "colab": {
          "base_uri": "https://localhost:8080/"
        },
        "id": "vkFyG91xILxJ",
        "outputId": "2066cdfe-f295-479f-f477-8c5f77e534dd"
      },
      "execution_count": null,
      "outputs": [
        {
          "output_type": "stream",
          "name": "stdout",
          "text": [
            "평균 제곱 오차(MSE): 0.9177532469714291\n",
            "결정 계수(R2): 0.6521157503858556\n"
          ]
        }
      ]
    },
    {
      "cell_type": "code",
      "source": [
        "#시각화\n",
        "plt.scatter(X_test, Y_test, color='blue')\n",
        "plt.plot(X_test, Y_pred, color='red', linewidth=2)\n",
        "plt.title('linear regeression')\n",
        "plt.xlabel('X')\n",
        "plt.ylabel('Y')\n",
        "plt.show()"
      ],
      "metadata": {
        "colab": {
          "base_uri": "https://localhost:8080/",
          "height": 472
        },
        "id": "M5__q3ngJG3q",
        "outputId": "86a04a5c-109a-4219-ccad-7dec06fd52a5"
      },
      "execution_count": null,
      "outputs": [
        {
          "output_type": "display_data",
          "data": {
            "text/plain": [
              "<Figure size 640x480 with 1 Axes>"
            ],
            "image/png": "[encoded data removed]"
          },
          "metadata": {}
        }
      ]
    },
    {
      "cell_type": "markdown",
      "source": [
        "# **다중선형회귀**"
      ],
      "metadata": {
        "id": "A0qs3w9fKlDR"
      }
    },
    {
      "cell_type": "code",
      "source": [
        "#예시 데이터 생성\n",
        "#다양한 광고비와 매출간의 관계 분석, 현재 광고비를 바탕으로 예상 되는 매출을 예측 가능\n",
        "\n",
        "data = {'TV':np.random.rand(100)*100,\n",
        "        'Radio':np.random.rand(100)*50,\n",
        "        'Newspaper':np.random.rand(100)*30,\n",
        "        'Sales':np.random.rand(100)*100}\n",
        "df=pd.DataFrame(data)\n",
        "\n",
        "#독립변수(X)와 종속변수(Y)설정\n",
        "X= df[['TV','Radio','Newspaper']]\n",
        "y= df['Sales']\n",
        "\n",
        "#데이터 분할\n",
        "X_train, X_test, Y_train, Y_test = train_test_split(X,Y,test_size=0.2, random_state=42)\n",
        "\n",
        "#다중선형회귀 모델 생성 및 훈련\n",
        "model = LinearRegression()\n",
        "model.fit(X_train, Y_train)\n",
        "\n",
        "#테스트 데이터로 예측 수행\n",
        "Y_pred = model.predict(X_test)\n",
        "\n",
        "#회귀 계수 및 절편 출력\n",
        "print(\"회귀 계수:\", model.coef_)\n",
        "print(\"절편:\", model.intercept_)\n"
      ],
      "metadata": {
        "colab": {
          "base_uri": "https://localhost:8080/"
        },
        "id": "6JyrRkl3Kg_p",
        "outputId": "e4d93caf-e4fd-4902-edad-3fe31b4febac"
      },
      "execution_count": null,
      "outputs": [
        {
          "output_type": "stream",
          "name": "stdout",
          "text": [
            "회귀 계수: [[ 0.00649016 -0.00936695  0.04301963]]\n",
            "절편: [6.18845154]\n"
          ]
        }
      ]
    },
    {
      "cell_type": "code",
      "source": [
        "#모델평가\n",
        "mse= mean_squared_error(Y_test, Y_pred)\n",
        "r2 = r2_score(Y_test, Y_pred)\n",
        "print(\"평균 제곱 오차(MSE):\", mse)\n",
        "print(\"결정 계수(R2):\", r2)"
      ],
      "metadata": {
        "colab": {
          "base_uri": "https://localhost:8080/"
        },
        "id": "fOyGmbwNMWFE",
        "outputId": "062b4cb2-9fad-4e06-ac85-ed844cf536aa"
      },
      "execution_count": null,
      "outputs": [
        {
          "output_type": "stream",
          "name": "stdout",
          "text": [
            "평균 제곱 오차(MSE): 3.2213321674072235\n",
            "결정 계수(R2): -0.22108064178960585\n"
          ]
        }
      ]
    },
    {
      "cell_type": "markdown",
      "source": [
        "범주형 변수"
      ],
      "metadata": {
        "id": "SW4mSs0xNzbJ"
      }
    },
    {
      "cell_type": "code",
      "source": [
        "#예시 데이터 생성\n",
        "data = {'Gender':['Male', 'Female', 'Female', 'Male', 'Male'],\n",
        "        'Experience':[5, 7, 10, 3, 8],\n",
        "        'Salary':[50, 60, 65, 40, 55]}\n",
        "df = pd.DataFrame(data)\n",
        "\n",
        "#범주형 변수 더미 변수로 변환\n",
        "df = pd.get_dummies(df, drop_first=True)\n",
        "\n",
        "#독립변수(X)와 종속변수(Y)설정\n",
        "X= df[['Experience','Gender_Male']]\n",
        "y= df['Salary']\n",
        "\n",
        "#단순선형회귀 모델 생성 및 훈련\n",
        "model = LinearRegression()\n",
        "model.fit(X,y)\n",
        "\n",
        "#예측\n",
        "y_pred = model.predict(X)\n",
        "\n",
        "#회귀 계수 및 절편 출력\n",
        "print(\"회귀 계수:\", model.coef_)\n",
        "print(\"절편:\", model.intercept_)\n",
        "\n",
        "#모델평가\n",
        "mse= mean_squared_error(Y_test, Y_pred)\n",
        "r2 = r2_score(Y_test, Y_pred)\n",
        "print(\"평균 제곱 오차(MSE):\", mse)\n",
        "print(\"결정 계수(R2):\", r2)"
      ],
      "metadata": {
        "colab": {
          "base_uri": "https://localhost:8080/"
        },
        "id": "HdnhkCw5N2FA",
        "outputId": "8612e251-b07d-40c2-ca6e-67054ce6e503"
      },
      "execution_count": null,
      "outputs": [
        {
          "output_type": "stream",
          "name": "stdout",
          "text": [
            "회귀 계수: [ 2.57281553 -6.01941748]\n",
            "절편: 40.63106796116506\n",
            "평균 제곱 오차(MSE): 3.2213321674072235\n",
            "결정 계수(R2): -0.22108064178960585\n"
          ]
        }
      ]
    },
    {
      "cell_type": "markdown",
      "source": [
        "**다향 회귀 **"
      ],
      "metadata": {
        "id": "dLGpSFfNPJbv"
      }
    },
    {
      "cell_type": "code",
      "source": [
        "from sklearn.preprocessing import PolynomialFeatures\n",
        "\n",
        "#예시 데이터 생성\n",
        "np.random.seed(0)\n",
        "x= 2-3 * np.random.normal(0,1,100)\n",
        "y= x-2 * (x ** 2) + np.random.normal(-3,3,100)\n",
        "x=x[:,np.newaxis]\n",
        "\n",
        "#다향회귀 (2차)\n",
        "polynomial_features = PolynomialFeatures(degree=2)\n",
        "x_poly = polynomial_features.fit_transform(x)\n",
        "\n",
        "model = LinearRegression()\n",
        "model.fit(x_poly,y)\n",
        "y_poly_pred = model.predict(x_poly)\n",
        "\n",
        "#모델평가\n",
        "mse= mean_squared_error(Y_test, Y_pred)\n",
        "r2 = r2_score(Y_test, Y_pred)\n",
        "print(\"평균 제곱 오차(MSE):\", mse)\n",
        "print(\"결정 계수(R2):\", r2)\n",
        "\n",
        "#시각화\n",
        "plt.scatter(x,y,s=10)\n",
        "#정렬된 x 값에 따른 Y값 예측\n",
        "sorted_zip = sorted(zip(x,y_poly_pred))\n",
        "x, y_poly_pred = zip(*sorted_zip)\n",
        "plt.plot(x,y_poly_pred,color='m')\n",
        "plt.title('polynomial regerssion')\n",
        "plt.xlabel('x')\n",
        "plt.ylabel('y')\n",
        "plt.show()\n"
      ],
      "metadata": {
        "colab": {
          "base_uri": "https://localhost:8080/",
          "height": 507
        },
        "id": "8S4kMdavPJUF",
        "outputId": "d3b8f1a0-16ee-4e7f-ed3f-8e37b0c2449e"
      },
      "execution_count": null,
      "outputs": [
        {
          "output_type": "stream",
          "name": "stdout",
          "text": [
            "평균 제곱 오차(MSE): 3.2213321674072235\n",
            "결정 계수(R2): -0.22108064178960585\n"
          ]
        },
        {
          "output_type": "display_data",
          "data": {
            "text/plain": [
              "<Figure size 640x480 with 1 Axes>"
            ],
            "image/png": "[encoded data removed]"
          },
          "metadata": {}
        }
      ]
    },
    {
      "cell_type": "markdown",
      "source": [
        "피어슨 상관계수"
      ],
      "metadata": {
        "id": "1aB3rSFfWd2K"
      }
    },
    {
      "cell_type": "markdown",
      "source": [],
      "metadata": {
        "id": "i7W3EfP7WcUC"
      }
    }
  ]
}